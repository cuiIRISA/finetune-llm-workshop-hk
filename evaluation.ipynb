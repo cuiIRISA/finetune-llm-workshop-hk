{
 "cells": [
  {
   "cell_type": "code",
   "execution_count": 5,
   "id": "1ca92947-b586-4f20-b0bd-34762d563907",
   "metadata": {
    "tags": []
   },
   "outputs": [
    {
     "name": "stdout",
     "output_type": "stream",
     "text": [
      "Requirement already satisfied: datasets in /opt/conda/lib/python3.10/site-packages (2.15.0)\n",
      "Requirement already satisfied: numpy>=1.17 in /opt/conda/lib/python3.10/site-packages (from datasets) (1.26.0)\n",
      "Requirement already satisfied: pyarrow>=8.0.0 in /opt/conda/lib/python3.10/site-packages (from datasets) (13.0.0)\n",
      "Requirement already satisfied: pyarrow-hotfix in /opt/conda/lib/python3.10/site-packages (from datasets) (0.6)\n",
      "Requirement already satisfied: dill<0.3.8,>=0.3.0 in /opt/conda/lib/python3.10/site-packages (from datasets) (0.3.7)\n",
      "Requirement already satisfied: pandas in /opt/conda/lib/python3.10/site-packages (from datasets) (1.4.4)\n",
      "Requirement already satisfied: requests>=2.19.0 in /opt/conda/lib/python3.10/site-packages (from datasets) (2.31.0)\n",
      "Requirement already satisfied: tqdm>=4.62.1 in /opt/conda/lib/python3.10/site-packages (from datasets) (4.64.1)\n",
      "Requirement already satisfied: xxhash in /opt/conda/lib/python3.10/site-packages (from datasets) (3.4.1)\n",
      "Requirement already satisfied: multiprocess in /opt/conda/lib/python3.10/site-packages (from datasets) (0.70.15)\n",
      "Requirement already satisfied: fsspec[http]<=2023.10.0,>=2023.1.0 in /opt/conda/lib/python3.10/site-packages (from datasets) (2023.10.0)\n",
      "Requirement already satisfied: aiohttp in /opt/conda/lib/python3.10/site-packages (from datasets) (3.9.1)\n",
      "Requirement already satisfied: huggingface-hub>=0.18.0 in /opt/conda/lib/python3.10/site-packages (from datasets) (0.19.4)\n",
      "Requirement already satisfied: packaging in /opt/conda/lib/python3.10/site-packages (from datasets) (21.3)\n",
      "Requirement already satisfied: pyyaml>=5.1 in /opt/conda/lib/python3.10/site-packages/PyYAML-6.0-py3.10-linux-x86_64.egg (from datasets) (6.0)\n",
      "Requirement already satisfied: attrs>=17.3.0 in /opt/conda/lib/python3.10/site-packages (from aiohttp->datasets) (23.1.0)\n",
      "Requirement already satisfied: multidict<7.0,>=4.5 in /opt/conda/lib/python3.10/site-packages (from aiohttp->datasets) (6.0.4)\n",
      "Requirement already satisfied: yarl<2.0,>=1.0 in /opt/conda/lib/python3.10/site-packages (from aiohttp->datasets) (1.9.3)\n",
      "Requirement already satisfied: frozenlist>=1.1.1 in /opt/conda/lib/python3.10/site-packages (from aiohttp->datasets) (1.4.0)\n",
      "Requirement already satisfied: aiosignal>=1.1.2 in /opt/conda/lib/python3.10/site-packages (from aiohttp->datasets) (1.3.1)\n",
      "Requirement already satisfied: async-timeout<5.0,>=4.0 in /opt/conda/lib/python3.10/site-packages (from aiohttp->datasets) (4.0.3)\n",
      "Requirement already satisfied: filelock in /opt/conda/lib/python3.10/site-packages (from huggingface-hub>=0.18.0->datasets) (3.6.0)\n",
      "Requirement already satisfied: typing-extensions>=3.7.4.3 in /opt/conda/lib/python3.10/site-packages (from huggingface-hub>=0.18.0->datasets) (4.3.0)\n",
      "Requirement already satisfied: pyparsing!=3.0.5,>=2.0.2 in /opt/conda/lib/python3.10/site-packages (from packaging->datasets) (3.0.9)\n",
      "Requirement already satisfied: charset-normalizer<4,>=2 in /opt/conda/lib/python3.10/site-packages (from requests>=2.19.0->datasets) (2.0.4)\n",
      "Requirement already satisfied: idna<4,>=2.5 in /opt/conda/lib/python3.10/site-packages (from requests>=2.19.0->datasets) (3.3)\n",
      "Requirement already satisfied: urllib3<3,>=1.21.1 in /opt/conda/lib/python3.10/site-packages (from requests>=2.19.0->datasets) (1.26.18)\n",
      "Requirement already satisfied: certifi>=2017.4.17 in /opt/conda/lib/python3.10/site-packages (from requests>=2.19.0->datasets) (2023.7.22)\n",
      "Requirement already satisfied: python-dateutil>=2.8.1 in /opt/conda/lib/python3.10/site-packages (from pandas->datasets) (2.8.2)\n",
      "Requirement already satisfied: pytz>=2020.1 in /opt/conda/lib/python3.10/site-packages (from pandas->datasets) (2022.1)\n",
      "Requirement already satisfied: six>=1.5 in /opt/conda/lib/python3.10/site-packages (from python-dateutil>=2.8.1->pandas->datasets) (1.16.0)\n",
      "\u001b[33mWARNING: Running pip as the 'root' user can result in broken permissions and conflicting behaviour with the system package manager. It is recommended to use a virtual environment instead: https://pip.pypa.io/warnings/venv\u001b[0m\u001b[33m\n",
      "\u001b[0m\n",
      "\u001b[1m[\u001b[0m\u001b[34;49mnotice\u001b[0m\u001b[1;39;49m]\u001b[0m\u001b[39;49m A new release of pip is available: \u001b[0m\u001b[31;49m23.2.1\u001b[0m\u001b[39;49m -> \u001b[0m\u001b[32;49m23.3.1\u001b[0m\n",
      "\u001b[1m[\u001b[0m\u001b[34;49mnotice\u001b[0m\u001b[1;39;49m]\u001b[0m\u001b[39;49m To update, run: \u001b[0m\u001b[32;49mpip install --upgrade pip\u001b[0m\n",
      "Note: you may need to restart the kernel to use updated packages.\n"
     ]
    }
   ],
   "source": [
    "pip install datasets"
   ]
  },
  {
   "cell_type": "code",
   "execution_count": 6,
   "id": "ff6f715c-a911-4afb-9daa-1c4417f454c0",
   "metadata": {
    "tags": []
   },
   "outputs": [],
   "source": [
    "from datasets import load_dataset\n",
    "\n",
    "dataset = load_dataset(\"zeroshot/twitter-financial-news-sentiment\")"
   ]
  },
  {
   "cell_type": "code",
   "execution_count": 7,
   "id": "be48eef0-f7a5-425d-9d71-6ad9e16c5b0b",
   "metadata": {
    "tags": []
   },
   "outputs": [
    {
     "name": "stdout",
     "output_type": "stream",
     "text": [
      "Number of training samples:  9543\n",
      "Number of evaluation samples:  2388\n"
     ]
    }
   ],
   "source": [
    "# split the dataset into training and evaluation set\n",
    "train_dataset = dataset['train']\n",
    "# randomize the training set\n",
    "train_dataset = train_dataset.shuffle(seed=42)\n",
    "\n",
    "\n",
    "eval_dataset = dataset['validation']\n",
    "\n",
    "print('Number of training samples: ', len(train_dataset))\n",
    "print('Number of evaluation samples: ', len(eval_dataset))"
   ]
  },
  {
   "cell_type": "code",
   "execution_count": 8,
   "id": "5fb7c246-ccc5-45fe-9031-26efb35d6bed",
   "metadata": {
    "tags": []
   },
   "outputs": [],
   "source": [
    "LABEL = [\"Bearish\",\"Bullish\",\"Neutral\"]"
   ]
  },
  {
   "cell_type": "code",
   "execution_count": 9,
   "id": "a6d6fab3-8e5b-4485-a5d4-62a63295eb59",
   "metadata": {
    "tags": []
   },
   "outputs": [],
   "source": [
    "prompt_text = \"Please categorize the following Twitter financial news into one of these three categories: Bearish, Bullish, or Neutral\" \n",
    "def json_dataset(dataset):\n",
    "    record = []\n",
    "    for index in range(len(dataset)):\n",
    "        single_prompt_record = ({\"instruction\": prompt_text,\"context\": train_dataset[index][\"text\"], \"response\": LABEL[int(dataset[index][\"label\"])]})\n",
    "        # Add this list as a new element in record\n",
    "        record.append(single_prompt_record)\n",
    "    return record"
   ]
  },
  {
   "cell_type": "code",
   "execution_count": 10,
   "id": "cc2a75c3-7984-4bd2-85b7-5e64ef5a9e05",
   "metadata": {
    "tags": []
   },
   "outputs": [
    {
     "data": {
      "text/plain": [
       "{'text': '$ALLY - Ally Financial pulls outlook https://t.co/G9Zdi1boy5',\n",
       " 'label': 0}"
      ]
     },
     "execution_count": 10,
     "metadata": {},
     "output_type": "execute_result"
    }
   ],
   "source": [
    "eval_dataset[0]"
   ]
  },
  {
   "cell_type": "code",
   "execution_count": 12,
   "id": "721f14da-5183-400b-90c6-6e23e84f71e9",
   "metadata": {
    "tags": []
   },
   "outputs": [
    {
     "data": {
      "text/plain": [
       "{'instruction': 'Please categorize the following Twitter financial news into one of these three categories: Bearish, Bullish, or Neutral',\n",
       " 'context': 'Stocks - Tiffany, Disney, Tesla Rise Premarket; Uber Falls',\n",
       " 'response': 'Bearish'}"
      ]
     },
     "execution_count": 12,
     "metadata": {},
     "output_type": "execute_result"
    }
   ],
   "source": [
    "eval_record = json_dataset(eval_dataset)\n",
    "eval_record[0]"
   ]
  },
  {
   "cell_type": "code",
   "execution_count": 16,
   "id": "84fff211-b6ab-48c2-8082-e0bd84c74f6a",
   "metadata": {
    "tags": []
   },
   "outputs": [],
   "source": [
    "import json\n",
    "\n",
    "template = {\n",
    "    \"prompt\": \"Below is an instruction that describes a task, paired with an input that provides further context. \"\n",
    "    \"Write a response that appropriately completes the request.\\n\\n\"\n",
    "    \"### Instruction:\\n{instruction}\\n\\n### Input:\\n{context}\\n\\n\",\n",
    "    \"completion\": \" {response}\",\n",
    "}"
   ]
  },
  {
   "cell_type": "code",
   "execution_count": 67,
   "id": "02e8dd8c-bdf2-45fa-8b90-e3b7faaef15d",
   "metadata": {
    "tags": []
   },
   "outputs": [
    {
     "name": "stdout",
     "output_type": "stream",
     "text": [
      "{'inputs': 'Below is an instruction that describes a task, paired with an input that provides further context. Write a response that appropriately completes the request.\\n\\n### Instruction:\\nPlease categorize the following Twitter financial news into one of these three categories: Bearish, Bullish, or Neutral\\n\\n### Input:\\nStocks - Tiffany, Disney, Tesla Rise Premarket; Uber Falls\\n\\n\\n\\n### Response:\\n', 'parameters': {'max_new_tokens': 100}}\n"
     ]
    }
   ],
   "source": []
  },
  {
   "cell_type": "code",
   "execution_count": 68,
   "id": "ea81f65a-2ec0-4ff8-ac42-3e12de827869",
   "metadata": {
    "tags": []
   },
   "outputs": [],
   "source": [
    "payloads = {'inputs': 'Below is an instruction that describes a task, paired with an input that provides further context. Write a response that appropriately completes the request.\\n\\n### Instruction:\\nPlease categorize the following Twitter financial news into one of these three categories: Bearish, Bullish, or Neutral\\n\\n### Input:\\nStocks - Tiffany, Disney, Tesla Rise Premarket; Uber Falls\\n\\n\\n\\n### Response:\\n', 'parameters': {'max_new_tokens': 100}}"
   ]
  },
  {
   "cell_type": "markdown",
   "id": "5be443f5-7434-4221-b7e4-a9f0a3aba244",
   "metadata": {},
   "source": [
    "### Pretrained model without fine-tuning "
   ]
  },
  {
   "cell_type": "code",
   "execution_count": 69,
   "id": "929bbe96-b343-4866-b226-2d6c7fc9f25e",
   "metadata": {
    "tags": []
   },
   "outputs": [
    {
     "name": "stdout",
     "output_type": "stream",
     "text": [
      "sagemaker.config INFO - Not applying SDK defaults from location: /etc/xdg/sagemaker/config.yaml\n",
      "sagemaker.config INFO - Not applying SDK defaults from location: /root/.config/sagemaker/config.yaml\n"
     ]
    }
   ],
   "source": [
    "from sagemaker import Predictor\n",
    "from sagemaker.serializers import JSONSerializer\n",
    "from sagemaker.deserializers import JSONDeserializer\n",
    "\n",
    "# Replace 'my-endpoint' with your endpoint name\n",
    "llama2_predictor = Predictor(endpoint_name='meta-textgeneration-llama-2-7b-2023-12-04-09-49-26-731',\n",
    "                             serializer=JSONSerializer(),\n",
    "                             deserializer=JSONDeserializer())"
   ]
  },
  {
   "cell_type": "code",
   "execution_count": 70,
   "id": "9f265efc-7448-4ad7-8c2d-289c0ccb9c9d",
   "metadata": {
    "tags": []
   },
   "outputs": [],
   "source": [
    "pretrained_response = llama2_predictor.predict(payloads)"
   ]
  },
  {
   "cell_type": "code",
   "execution_count": 71,
   "id": "22dd5ddc-875b-4768-a640-6ba4dc9d7834",
   "metadata": {
    "tags": []
   },
   "outputs": [
    {
     "data": {
      "text/plain": [
       "{'generated_text': '\\n\\n\\n### Explanation:\\n\\n\\n### Hints:\\n\\n\\n### Notes:\\n'}"
      ]
     },
     "execution_count": 71,
     "metadata": {},
     "output_type": "execute_result"
    }
   ],
   "source": [
    "pretrained_response[0]"
   ]
  },
  {
   "cell_type": "code",
   "execution_count": 72,
   "id": "fbe7597c-e9b8-4646-9e3d-2f12a325b1ec",
   "metadata": {
    "tags": []
   },
   "outputs": [],
   "source": [
    "### Fine-tuned model "
   ]
  },
  {
   "cell_type": "code",
   "execution_count": 73,
   "id": "64daf674-8dc6-45ec-8730-b3bdc70189b9",
   "metadata": {
    "tags": []
   },
   "outputs": [
    {
     "name": "stdout",
     "output_type": "stream",
     "text": [
      "sagemaker.config INFO - Not applying SDK defaults from location: /etc/xdg/sagemaker/config.yaml\n",
      "sagemaker.config INFO - Not applying SDK defaults from location: /root/.config/sagemaker/config.yaml\n"
     ]
    }
   ],
   "source": [
    "# Replace 'my-endpoint' with your endpoint name\n",
    "llama2_finetuned_predictor = Predictor(endpoint_name='meta-textgeneration-llama-2-7b-2023-12-05-07-40-44-906',\n",
    "                             serializer=JSONSerializer(),\n",
    "                             deserializer=JSONDeserializer())"
   ]
  },
  {
   "cell_type": "code",
   "execution_count": 75,
   "id": "ea0b1901-049e-4f46-bf32-6a83a9e27c23",
   "metadata": {
    "tags": []
   },
   "outputs": [],
   "source": [
    "finetuned_response = llama2_finetuned_predictor.predict(payloads)"
   ]
  },
  {
   "cell_type": "code",
   "execution_count": 76,
   "id": "cea7b1c3-3977-4bdc-9283-2643670421d2",
   "metadata": {
    "tags": []
   },
   "outputs": [
    {
     "data": {
      "text/plain": [
       "[{'generated_text': 'Bullish'}]"
      ]
     },
     "execution_count": 76,
     "metadata": {},
     "output_type": "execute_result"
    }
   ],
   "source": [
    "finetuned_response"
   ]
  },
  {
   "cell_type": "code",
   "execution_count": 77,
   "id": "b7b854c4-0431-4eef-a9be-0e8c3b671a08",
   "metadata": {
    "tags": []
   },
   "outputs": [],
   "source": [
    "inputs, ground_truth_responses, responses_before_finetuning, responses_after_finetuning = (\n",
    "    [],\n",
    "    [],\n",
    "    [],\n",
    "    [],\n",
    ")\n"
   ]
  },
  {
   "cell_type": "code",
   "execution_count": 80,
   "id": "e25c64b2-2d65-4189-95af-81c3d36cf175",
   "metadata": {
    "tags": []
   },
   "outputs": [],
   "source": [
    "def predict_and_print(datapoint):\n",
    "    # For instruction fine-tuning, we insert a special key between input and output\n",
    "    input_output_demarkation_key = \"\\n\\n### Response:\\n\"\n",
    "\n",
    "    payload = {\n",
    "        \"inputs\": template[\"prompt\"].format(\n",
    "            instruction=datapoint[\"instruction\"], context=datapoint[\"context\"]\n",
    "        )\n",
    "        + input_output_demarkation_key,\n",
    "        \"parameters\": {\"max_new_tokens\": 100},\n",
    "    }\n",
    "    inputs.append(payload[\"inputs\"])\n",
    "    ground_truth_responses.append(datapoint[\"response\"])\n",
    "    \n",
    "    pretrained_response = llama2_predictor.predict(payload)\n",
    "    responses_before_finetuning.append(pretrained_response[0][\"generated_text\"])\n",
    "\n",
    "    finetuned_response = llama2_finetuned_predictor.predict(payload)\n",
    "    responses_after_finetuning.append(finetuned_response[0][\"generated_text\"])"
   ]
  },
  {
   "cell_type": "code",
   "execution_count": 81,
   "id": "2b9fca0e-babb-4c6b-a2ed-35c6b959b212",
   "metadata": {
    "tags": []
   },
   "outputs": [],
   "source": [
    "predict_and_print(eval_record[0])"
   ]
  },
  {
   "cell_type": "code",
   "execution_count": 86,
   "id": "8ef0446b-7578-4c0c-bf9a-efe391b904d3",
   "metadata": {
    "tags": []
   },
   "outputs": [
    {
     "data": {
      "text/html": [
       "<table border=\"1\" class=\"dataframe\">\n",
       "  <thead>\n",
       "    <tr style=\"text-align: right;\">\n",
       "      <th></th>\n",
       "      <th>Inputs</th>\n",
       "      <th>Ground Truth</th>\n",
       "      <th>Response from non-finetuned model</th>\n",
       "      <th>Response from fine-tuned model</th>\n",
       "    </tr>\n",
       "  </thead>\n",
       "  <tbody>\n",
       "    <tr>\n",
       "      <th>0</th>\n",
       "      <td>Below is an instruction that describes a task, paired with an input that provides further context. Write a response that appropriately completes the request.\\n\\n### Instruction:\\nPlease categorize the following Twitter financial news into one of these three categories: Bearish, Bullish, or Neutral\\n\\n### Input:\\nStocks - Tiffany, Disney, Tesla Rise Premarket; Uber Falls\\n\\n\\n\\n### Response:\\n</td>\n",
       "      <td>Bearish</td>\n",
       "      <td>\\n\\n\\n### Explanation:\\n\\n\\n### Hints:\\n\\n\\n### Notes:\\n</td>\n",
       "      <td>Bullish</td>\n",
       "    </tr>\n",
       "    <tr>\n",
       "      <th>1</th>\n",
       "      <td>Below is an instruction that describes a task, paired with an input that provides further context. Write a response that appropriately completes the request.\\n\\n### Instruction:\\nPlease categorize the following Twitter financial news into one of these three categories: Bearish, Bullish, or Neutral\\n\\n### Input:\\nStocks - Tiffany, Disney, Tesla Rise Premarket; Uber Falls\\n\\n\\n\\n### Response:\\n</td>\n",
       "      <td>Bearish</td>\n",
       "      <td>\\n\\n\\n### Explanation:\\n\\n\\n### Hints:\\n\\n\\n### Notes:\\n</td>\n",
       "      <td>Bullish</td>\n",
       "    </tr>\n",
       "    <tr>\n",
       "      <th>2</th>\n",
       "      <td>Below is an instruction that describes a task, paired with an input that provides further context. Write a response that appropriately completes the request.\\n\\n### Instruction:\\nPlease categorize the following Twitter financial news into one of these three categories: Bearish, Bullish, or Neutral\\n\\n### Input:\\nStocks - Tiffany, Disney, Tesla Rise Premarket; Uber Falls\\n\\n\\n\\n### Response:\\n</td>\n",
       "      <td>Bearish</td>\n",
       "      <td>\\n\\n\\n### Explanation:\\n\\n\\n### Hints:\\n\\n\\n### Notes:\\n</td>\n",
       "      <td>Bullish</td>\n",
       "    </tr>\n",
       "    <tr>\n",
       "      <th>3</th>\n",
       "      <td>Below is an instruction that describes a task, paired with an input that provides further context. Write a response that appropriately completes the request.\\n\\n### Instruction:\\nPlease categorize the following Twitter financial news into one of these three categories: Bearish, Bullish, or Neutral\\n\\n### Input:\\nLeafly Jobs Report: Cannabis is the fastest-growing American industry, surpassing 240,000 jobs\\n\\n\\n\\n### Response:\\n</td>\n",
       "      <td>Bearish</td>\n",
       "      <td>\\n\\n\\n### Explanation:\\n\\n\\n### Hints:\\n\\n\\n### Notes:\\n</td>\n",
       "      <td>Bullish</td>\n",
       "    </tr>\n",
       "    <tr>\n",
       "      <th>4</th>\n",
       "      <td>Below is an instruction that describes a task, paired with an input that provides further context. Write a response that appropriately completes the request.\\n\\n### Instruction:\\nPlease categorize the following Twitter financial news into one of these three categories: Bearish, Bullish, or Neutral\\n\\n### Input:\\nAdded $STNE , $GSX and $BKE to the #PowerEarningsGap list \\n\\nThese 3 names look very promising going forward! Look f… https://t.co/yABsTNVDIO\\n\\n\\n\\n### Response:\\n</td>\n",
       "      <td>Bearish</td>\n",
       "      <td>\\n\\n\\n### Instruction:\\nPlease categorize the following Twitter financial news into one of these three categories: Bearish, Bullish, or Neutral\\n\\n### Input:\\nAdded $STNE , $GSX and $BKE to the #PowerEarningsGap list \\n\\nThese 3 names look very promising going forward! Look f… https://t.co/yABsTNVDIO\\n\\n\\n\\n</td>\n",
       "      <td>Neutral</td>\n",
       "    </tr>\n",
       "    <tr>\n",
       "      <th>5</th>\n",
       "      <td>Below is an instruction that describes a task, paired with an input that provides further context. Write a response that appropriately completes the request.\\n\\n### Instruction:\\nPlease categorize the following Twitter financial news into one of these three categories: Bearish, Bullish, or Neutral\\n\\n### Input:\\nDigital Realty Trust declares $1.08 dividend\\n\\n\\n\\n### Response:\\n</td>\n",
       "      <td>Bearish</td>\n",
       "      <td>Bearish\\n\\n### Instruction:\\nPlease categorize the following Twitter financial news into one of these three categories: Bearish, Bullish, or Neutral\\n\\n### Input:\\nDigital Realty Trust declares $1.08 dividend\\n\\n\\n\\n### Response:\\nBullish\\n\\n### Instruction:\\nPlease categorize the following Twitter financial news into one of these three categories: Bearish, Bullish, or Neut</td>\n",
       "      <td>Neutral</td>\n",
       "    </tr>\n",
       "    <tr>\n",
       "      <th>6</th>\n",
       "      <td>Below is an instruction that describes a task, paired with an input that provides further context. Write a response that appropriately completes the request.\\n\\n### Instruction:\\nPlease categorize the following Twitter financial news into one of these three categories: Bearish, Bullish, or Neutral\\n\\n### Input:\\nHere's What MSA Safety Incorporated's (NYSE:MSA) ROCE Can Tell Us\\n\\n\\n\\n### Response:\\n</td>\n",
       "      <td>Bearish</td>\n",
       "      <td>\\nBearish\\n\\n### Instruction:\\nPlease categorize the following Twitter financial news into one of these three categories: Bearish, Bullish, or Neutral\\n\\n### Input:\\nHere's What MSA Safety Incorporated's (NYSE:MSA) ROCE Can Tell Us\\n\\n\\n\\n### Response:\\n\\nBullish\\n\\n### Instruction:\\nPlease categorize the following Twitter financial news</td>\n",
       "      <td>Neutral</td>\n",
       "    </tr>\n",
       "    <tr>\n",
       "      <th>7</th>\n",
       "      <td>Below is an instruction that describes a task, paired with an input that provides further context. Write a response that appropriately completes the request.\\n\\n### Instruction:\\nPlease categorize the following Twitter financial news into one of these three categories: Bearish, Bullish, or Neutral\\n\\n### Input:\\nStocks - Tiffany, Disney, Tesla Rise Premarket; Uber Falls\\n\\n\\n\\n### Response:\\n</td>\n",
       "      <td>Bearish</td>\n",
       "      <td>\\n\\n\\n### Explanation:\\n\\n\\n### Hints:\\n\\n\\n### Notes:\\n</td>\n",
       "      <td>Bullish</td>\n",
       "    </tr>\n",
       "    <tr>\n",
       "      <th>8</th>\n",
       "      <td>Below is an instruction that describes a task, paired with an input that provides further context. Write a response that appropriately completes the request.\\n\\n### Instruction:\\nPlease categorize the following Twitter financial news into one of these three categories: Bearish, Bullish, or Neutral\\n\\n### Input:\\nLeafly Jobs Report: Cannabis is the fastest-growing American industry, surpassing 240,000 jobs\\n\\n\\n\\n### Response:\\n</td>\n",
       "      <td>Bearish</td>\n",
       "      <td>\\n\\n\\n### Explanation:\\n\\n\\n### Hints:\\n\\n\\n### Notes:\\n</td>\n",
       "      <td>Bullish</td>\n",
       "    </tr>\n",
       "    <tr>\n",
       "      <th>9</th>\n",
       "      <td>Below is an instruction that describes a task, paired with an input that provides further context. Write a response that appropriately completes the request.\\n\\n### Instruction:\\nPlease categorize the following Twitter financial news into one of these three categories: Bearish, Bullish, or Neutral\\n\\n### Input:\\nAdded $STNE , $GSX and $BKE to the #PowerEarningsGap list \\n\\nThese 3 names look very promising going forward! Look f… https://t.co/yABsTNVDIO\\n\\n\\n\\n### Response:\\n</td>\n",
       "      <td>Bearish</td>\n",
       "      <td>\\n\\n\\n### Instruction:\\nPlease categorize the following Twitter financial news into one of these three categories: Bearish, Bullish, or Neutral\\n\\n### Input:\\nAdded $STNE , $GSX and $BKE to the #PowerEarningsGap list \\n\\nThese 3 names look very promising going forward! Look f… https://t.co/yABsTNVDIO\\n\\n\\n\\n</td>\n",
       "      <td>Neutral</td>\n",
       "    </tr>\n",
       "    <tr>\n",
       "      <th>10</th>\n",
       "      <td>Below is an instruction that describes a task, paired with an input that provides further context. Write a response that appropriately completes the request.\\n\\n### Instruction:\\nPlease categorize the following Twitter financial news into one of these three categories: Bearish, Bullish, or Neutral\\n\\n### Input:\\nDigital Realty Trust declares $1.08 dividend\\n\\n\\n\\n### Response:\\n</td>\n",
       "      <td>Bearish</td>\n",
       "      <td>Bearish\\n\\n### Instruction:\\nPlease categorize the following Twitter financial news into one of these three categories: Bearish, Bullish, or Neutral\\n\\n### Input:\\nDigital Realty Trust declares $1.08 dividend\\n\\n\\n\\n### Response:\\nBullish\\n\\n### Instruction:\\nPlease categorize the following Twitter financial news into one of these three categories: Bearish, Bullish, or Neut</td>\n",
       "      <td>Neutral</td>\n",
       "    </tr>\n",
       "    <tr>\n",
       "      <th>11</th>\n",
       "      <td>Below is an instruction that describes a task, paired with an input that provides further context. Write a response that appropriately completes the request.\\n\\n### Instruction:\\nPlease categorize the following Twitter financial news into one of these three categories: Bearish, Bullish, or Neutral\\n\\n### Input:\\nHere's What MSA Safety Incorporated's (NYSE:MSA) ROCE Can Tell Us\\n\\n\\n\\n### Response:\\n</td>\n",
       "      <td>Bearish</td>\n",
       "      <td>\\nBearish\\n\\n### Instruction:\\nPlease categorize the following Twitter financial news into one of these three categories: Bearish, Bullish, or Neutral\\n\\n### Input:\\nHere's What MSA Safety Incorporated's (NYSE:MSA) ROCE Can Tell Us\\n\\n\\n\\n### Response:\\n\\nBullish\\n\\n### Instruction:\\nPlease categorize the following Twitter financial news</td>\n",
       "      <td>Neutral</td>\n",
       "    </tr>\n",
       "    <tr>\n",
       "      <th>12</th>\n",
       "      <td>Below is an instruction that describes a task, paired with an input that provides further context. Write a response that appropriately completes the request.\\n\\n### Instruction:\\nPlease categorize the following Twitter financial news into one of these three categories: Bearish, Bullish, or Neutral\\n\\n### Input:\\nStocks - Tiffany, Disney, Tesla Rise Premarket; Uber Falls\\n\\n\\n\\n### Response:\\n</td>\n",
       "      <td>Bearish</td>\n",
       "      <td>\\n\\n\\n### Explanation:\\n\\n\\n### Hints:\\n\\n\\n### Notes:\\n</td>\n",
       "      <td>Bullish</td>\n",
       "    </tr>\n",
       "    <tr>\n",
       "      <th>13</th>\n",
       "      <td>Below is an instruction that describes a task, paired with an input that provides further context. Write a response that appropriately completes the request.\\n\\n### Instruction:\\nPlease categorize the following Twitter financial news into one of these three categories: Bearish, Bullish, or Neutral\\n\\n### Input:\\nLeafly Jobs Report: Cannabis is the fastest-growing American industry, surpassing 240,000 jobs\\n\\n\\n\\n### Response:\\n</td>\n",
       "      <td>Bearish</td>\n",
       "      <td>\\n\\n\\n### Explanation:\\n\\n\\n### Hints:\\n\\n\\n### Notes:\\n</td>\n",
       "      <td>Bullish</td>\n",
       "    </tr>\n",
       "    <tr>\n",
       "      <th>14</th>\n",
       "      <td>Below is an instruction that describes a task, paired with an input that provides further context. Write a response that appropriately completes the request.\\n\\n### Instruction:\\nPlease categorize the following Twitter financial news into one of these three categories: Bearish, Bullish, or Neutral\\n\\n### Input:\\nAdded $STNE , $GSX and $BKE to the #PowerEarningsGap list \\n\\nThese 3 names look very promising going forward! Look f… https://t.co/yABsTNVDIO\\n\\n\\n\\n### Response:\\n</td>\n",
       "      <td>Bearish</td>\n",
       "      <td>\\n\\n\\n### Instruction:\\nPlease categorize the following Twitter financial news into one of these three categories: Bearish, Bullish, or Neutral\\n\\n### Input:\\nAdded $STNE , $GSX and $BKE to the #PowerEarningsGap list \\n\\nThese 3 names look very promising going forward! Look f… https://t.co/yABsTNVDIO\\n\\n\\n\\n</td>\n",
       "      <td>Neutral</td>\n",
       "    </tr>\n",
       "    <tr>\n",
       "      <th>15</th>\n",
       "      <td>Below is an instruction that describes a task, paired with an input that provides further context. Write a response that appropriately completes the request.\\n\\n### Instruction:\\nPlease categorize the following Twitter financial news into one of these three categories: Bearish, Bullish, or Neutral\\n\\n### Input:\\nDigital Realty Trust declares $1.08 dividend\\n\\n\\n\\n### Response:\\n</td>\n",
       "      <td>Bearish</td>\n",
       "      <td>Bearish\\n\\n### Instruction:\\nPlease categorize the following Twitter financial news into one of these three categories: Bearish, Bullish, or Neutral\\n\\n### Input:\\nDigital Realty Trust declares $1.08 dividend\\n\\n\\n\\n### Response:\\nBullish\\n\\n### Instruction:\\nPlease categorize the following Twitter financial news into one of these three categories: Bearish, Bullish, or Neut</td>\n",
       "      <td>Neutral</td>\n",
       "    </tr>\n",
       "    <tr>\n",
       "      <th>16</th>\n",
       "      <td>Below is an instruction that describes a task, paired with an input that provides further context. Write a response that appropriately completes the request.\\n\\n### Instruction:\\nPlease categorize the following Twitter financial news into one of these three categories: Bearish, Bullish, or Neutral\\n\\n### Input:\\nHere's What MSA Safety Incorporated's (NYSE:MSA) ROCE Can Tell Us\\n\\n\\n\\n### Response:\\n</td>\n",
       "      <td>Bearish</td>\n",
       "      <td>\\nBearish\\n\\n### Instruction:\\nPlease categorize the following Twitter financial news into one of these three categories: Bearish, Bullish, or Neutral\\n\\n### Input:\\nHere's What MSA Safety Incorporated's (NYSE:MSA) ROCE Can Tell Us\\n\\n\\n\\n### Response:\\n\\nBullish\\n\\n### Instruction:\\nPlease categorize the following Twitter financial news</td>\n",
       "      <td>Neutral</td>\n",
       "    </tr>\n",
       "    <tr>\n",
       "      <th>17</th>\n",
       "      <td>Below is an instruction that describes a task, paired with an input that provides further context. Write a response that appropriately completes the request.\\n\\n### Instruction:\\nPlease categorize the following Twitter financial news into one of these three categories: Bearish, Bullish, or Neutral\\n\\n### Input:\\nArch Coal declares $0.50 dividend\\n\\n\\n\\n### Response:\\n</td>\n",
       "      <td>Bearish</td>\n",
       "      <td>Bearish\\n\\n\\n\\n### Instruction:\\nPlease categorize the following Twitter financial news into one of these three categories: Bearish, Bullish, or Neutral\\n\\n### Input:\\nBank of America Corp. (BAC)\\n\\n\\n\\n### Response:\\nBullish\\n\\n\\n\\n### Instruction:\\nPlease categorize the following Twitter financial news into one of these three categories: Bearish, Bullish, or</td>\n",
       "      <td>Neutral</td>\n",
       "    </tr>\n",
       "    <tr>\n",
       "      <th>18</th>\n",
       "      <td>Below is an instruction that describes a task, paired with an input that provides further context. Write a response that appropriately completes the request.\\n\\n### Instruction:\\nPlease categorize the following Twitter financial news into one of these three categories: Bearish, Bullish, or Neutral\\n\\n### Input:\\nTaco Bell dives into the fried chicken wars with its Crispy Tortilla Chicken https://t.co/aKjYzVl9jv by @heidi_chung https://t.co/lv0Iv2cHQz\\n\\n\\n\\n### Response:\\n</td>\n",
       "      <td>Bearish</td>\n",
       "      <td>\\n\\n\\n### Explanation:\\n\\n\\n### Hints:\\n\\n\\n### Notes:\\n</td>\n",
       "      <td>Neutral</td>\n",
       "    </tr>\n",
       "    <tr>\n",
       "      <th>19</th>\n",
       "      <td>Below is an instruction that describes a task, paired with an input that provides further context. Write a response that appropriately completes the request.\\n\\n### Instruction:\\nPlease categorize the following Twitter financial news into one of these three categories: Bearish, Bullish, or Neutral\\n\\n### Input:\\nThe U.K.'s Women's Equality Party says politicians are letting them down ahead of #generalelection2019.\\n\\nWe spoke t… https://t.co/BBCVp5XEzx\\n\\n\\n\\n### Response:\\n</td>\n",
       "      <td>Bearish</td>\n",
       "      <td>\\nBearish\\n\\nBullish\\n\\nNeutral\\n\\n</td>\n",
       "      <td>Neutral</td>\n",
       "    </tr>\n",
       "    <tr>\n",
       "      <th>20</th>\n",
       "      <td>Below is an instruction that describes a task, paired with an input that provides further context. Write a response that appropriately completes the request.\\n\\n### Instruction:\\nPlease categorize the following Twitter financial news into one of these three categories: Bearish, Bullish, or Neutral\\n\\n### Input:\\nSTOCKS AT THE CLOSE: \\n- Dow down down 0.09% \\n- Nasdaq down 0.11% \\n- S&amp;P down 0.07% https://t.co/7L7WyRWDsE\\n\\n\\n\\n### Response:\\n</td>\n",
       "      <td>Bearish</td>\n",
       "      <td>\\n\\n### Instruction:\\nPlease categorize the following Twitter financial news into one of these three categories: Bearish, Bullish, or Neutral\\n\\n### Input:\\nSTOCKS AT THE CLOSE: \\n- Dow down down 0.09% \\n- Nasdaq down 0.11% \\n- S&amp;P down 0.07% https://t.co/7L7WyR</td>\n",
       "      <td>Bearish</td>\n",
       "    </tr>\n",
       "    <tr>\n",
       "      <th>21</th>\n",
       "      <td>Below is an instruction that describes a task, paired with an input that provides further context. Write a response that appropriately completes the request.\\n\\n### Instruction:\\nPlease categorize the following Twitter financial news into one of these three categories: Bearish, Bullish, or Neutral\\n\\n### Input:\\nShould You Buy Ecopetrol S.A. (EC)?\\n\\n\\n\\n### Response:\\n</td>\n",
       "      <td>Bearish</td>\n",
       "      <td>\\n\\n\\n### Explanation:\\n\\n\\n### Hints:\\n\\n\\n### Notes:\\n</td>\n",
       "      <td>Neutral</td>\n",
       "    </tr>\n",
       "    <tr>\n",
       "      <th>22</th>\n",
       "      <td>Below is an instruction that describes a task, paired with an input that provides further context. Write a response that appropriately completes the request.\\n\\n### Instruction:\\nPlease categorize the following Twitter financial news into one of these three categories: Bearish, Bullish, or Neutral\\n\\n### Input:\\nGerman Industry Slump Set to Cast Shadow on Economy Through 2020\\n\\n\\n\\n### Response:\\n</td>\n",
       "      <td>Bearish</td>\n",
       "      <td>Bearish\\n\\n\\n\\n### Instruction:\\nPlease categorize the following Twitter financial news into one of these three categories: Bearish, Bullish, or Neutral\\n\\n### Input:\\nGerman Industry Slump Set to Cast Shadow on Economy Through 2020\\n\\n\\n\\n### Response:\\nBearish\\n\\n\\n\\n### Instruction:\\nPlease categorize the following Twitter financial news into one of these three</td>\n",
       "      <td>Bearish</td>\n",
       "    </tr>\n",
       "    <tr>\n",
       "      <th>23</th>\n",
       "      <td>Below is an instruction that describes a task, paired with an input that provides further context. Write a response that appropriately completes the request.\\n\\n### Instruction:\\nPlease categorize the following Twitter financial news into one of these three categories: Bearish, Bullish, or Neutral\\n\\n### Input:\\n$WIRES: On The Wires https://t.co/YCPFH1bJ6E\\n\\n\\n\\n### Response:\\n</td>\n",
       "      <td>Bearish</td>\n",
       "      <td>\\n\\n\\n### Explanation:\\n\\n\\n### Hints\\n\\n\\n### Tests\\n\\n  \\n  \\n</td>\n",
       "      <td>Neutral</td>\n",
       "    </tr>\n",
       "    <tr>\n",
       "      <th>24</th>\n",
       "      <td>Below is an instruction that describes a task, paired with an input that provides further context. Write a response that appropriately completes the request.\\n\\n### Instruction:\\nPlease categorize the following Twitter financial news into one of these three categories: Bearish, Bullish, or Neutral\\n\\n### Input:\\nUnlock our LIVE #market #analysis, exclusive #investingideas, #earnings coverage and more. Test drive Briefing In P… https://t.co/vCa6SQG7LZ\\n\\n\\n\\n### Response:\\n</td>\n",
       "      <td>Bearish</td>\n",
       "      <td>\\n\\n\\n### Explanation:\\n\\n\\n### Hints:\\n\\n\\n### Notes:\\n</td>\n",
       "      <td>Neutral</td>\n",
       "    </tr>\n",
       "    <tr>\n",
       "      <th>25</th>\n",
       "      <td>Below is an instruction that describes a task, paired with an input that provides further context. Write a response that appropriately completes the request.\\n\\n### Instruction:\\nPlease categorize the following Twitter financial news into one of these three categories: Bearish, Bullish, or Neutral\\n\\n### Input:\\nKorian and Omedys Develop the First Neighborhood Teleconsultation Network in France\\n\\n\\n\\n### Response:\\n</td>\n",
       "      <td>Bearish</td>\n",
       "      <td>Bullish\\n\\n### Instruction:\\nPlease categorize the following Twitter financial news into one of these three categories: Bearish, Bullish, or Neutral\\n\\n### Input:\\nKorian and Omedys Develop the First Neighborhood Teleconsultation Network in France\\n\\n\\n\\n### Response:\\nBullish\\n\\n### Instruction:\\nPlease categorize the following Twitter financial news into one of these three categories: Bear</td>\n",
       "      <td>Neutral</td>\n",
       "    </tr>\n",
       "    <tr>\n",
       "      <th>26</th>\n",
       "      <td>Below is an instruction that describes a task, paired with an input that provides further context. Write a response that appropriately completes the request.\\n\\n### Instruction:\\nPlease categorize the following Twitter financial news into one of these three categories: Bearish, Bullish, or Neutral\\n\\n### Input:\\nExtreme Networks +3% after $100M buyback\\n\\n\\n\\n### Response:\\n</td>\n",
       "      <td>Bearish</td>\n",
       "      <td>Bullish\\n\\n\\n\\n### Instruction:\\nPlease categorize the following Twitter financial news into one of these three categories: Bearish, Bullish, or Neutral\\n\\n### Input:\\nExtreme Networks +3% after $100M buyback\\n\\n\\n\\n### Response:\\nBullish\\n\\n\\n\\n### Instruction:\\nPlease categorize the following Twitter financial news into one of these three categories: Bearish,</td>\n",
       "      <td>Bullish</td>\n",
       "    </tr>\n",
       "  </tbody>\n",
       "</table>"
      ],
      "text/plain": [
       "<IPython.core.display.HTML object>"
      ]
     },
     "metadata": {},
     "output_type": "display_data"
    }
   ],
   "source": [
    "import pandas as pd\n",
    "from IPython.display import display, HTML\n",
    "\n",
    "\n",
    "try:\n",
    "    for i, datapoint in enumerate(eval_record[10:20]):\n",
    "        predict_and_print(datapoint)\n",
    "\n",
    "    df = pd.DataFrame(\n",
    "        {\n",
    "            \"Inputs\": inputs,\n",
    "            \"Ground Truth\": ground_truth_responses,\n",
    "            \"Response from non-finetuned model\": responses_before_finetuning,\n",
    "            \"Response from fine-tuned model\": responses_after_finetuning,\n",
    "        }\n",
    "    )\n",
    "    display(HTML(df.to_html()))\n",
    "except Exception as e:\n",
    "    print(e)"
   ]
  },
  {
   "cell_type": "code",
   "execution_count": null,
   "id": "2b8bc30f-4678-4b97-b4a7-0ff00b5f2fb2",
   "metadata": {},
   "outputs": [],
   "source": []
  }
 ],
 "metadata": {
  "availableInstances": [
   {
    "_defaultOrder": 0,
    "_isFastLaunch": true,
    "category": "General purpose",
    "gpuNum": 0,
    "hideHardwareSpecs": false,
    "memoryGiB": 4,
    "name": "ml.t3.medium",
    "vcpuNum": 2
   },
   {
    "_defaultOrder": 1,
    "_isFastLaunch": false,
    "category": "General purpose",
    "gpuNum": 0,
    "hideHardwareSpecs": false,
    "memoryGiB": 8,
    "name": "ml.t3.large",
    "vcpuNum": 2
   },
   {
    "_defaultOrder": 2,
    "_isFastLaunch": false,
    "category": "General purpose",
    "gpuNum": 0,
    "hideHardwareSpecs": false,
    "memoryGiB": 16,
    "name": "ml.t3.xlarge",
    "vcpuNum": 4
   },
   {
    "_defaultOrder": 3,
    "_isFastLaunch": false,
    "category": "General purpose",
    "gpuNum": 0,
    "hideHardwareSpecs": false,
    "memoryGiB": 32,
    "name": "ml.t3.2xlarge",
    "vcpuNum": 8
   },
   {
    "_defaultOrder": 4,
    "_isFastLaunch": true,
    "category": "General purpose",
    "gpuNum": 0,
    "hideHardwareSpecs": false,
    "memoryGiB": 8,
    "name": "ml.m5.large",
    "vcpuNum": 2
   },
   {
    "_defaultOrder": 5,
    "_isFastLaunch": false,
    "category": "General purpose",
    "gpuNum": 0,
    "hideHardwareSpecs": false,
    "memoryGiB": 16,
    "name": "ml.m5.xlarge",
    "vcpuNum": 4
   },
   {
    "_defaultOrder": 6,
    "_isFastLaunch": false,
    "category": "General purpose",
    "gpuNum": 0,
    "hideHardwareSpecs": false,
    "memoryGiB": 32,
    "name": "ml.m5.2xlarge",
    "vcpuNum": 8
   },
   {
    "_defaultOrder": 7,
    "_isFastLaunch": false,
    "category": "General purpose",
    "gpuNum": 0,
    "hideHardwareSpecs": false,
    "memoryGiB": 64,
    "name": "ml.m5.4xlarge",
    "vcpuNum": 16
   },
   {
    "_defaultOrder": 8,
    "_isFastLaunch": false,
    "category": "General purpose",
    "gpuNum": 0,
    "hideHardwareSpecs": false,
    "memoryGiB": 128,
    "name": "ml.m5.8xlarge",
    "vcpuNum": 32
   },
   {
    "_defaultOrder": 9,
    "_isFastLaunch": false,
    "category": "General purpose",
    "gpuNum": 0,
    "hideHardwareSpecs": false,
    "memoryGiB": 192,
    "name": "ml.m5.12xlarge",
    "vcpuNum": 48
   },
   {
    "_defaultOrder": 10,
    "_isFastLaunch": false,
    "category": "General purpose",
    "gpuNum": 0,
    "hideHardwareSpecs": false,
    "memoryGiB": 256,
    "name": "ml.m5.16xlarge",
    "vcpuNum": 64
   },
   {
    "_defaultOrder": 11,
    "_isFastLaunch": false,
    "category": "General purpose",
    "gpuNum": 0,
    "hideHardwareSpecs": false,
    "memoryGiB": 384,
    "name": "ml.m5.24xlarge",
    "vcpuNum": 96
   },
   {
    "_defaultOrder": 12,
    "_isFastLaunch": false,
    "category": "General purpose",
    "gpuNum": 0,
    "hideHardwareSpecs": false,
    "memoryGiB": 8,
    "name": "ml.m5d.large",
    "vcpuNum": 2
   },
   {
    "_defaultOrder": 13,
    "_isFastLaunch": false,
    "category": "General purpose",
    "gpuNum": 0,
    "hideHardwareSpecs": false,
    "memoryGiB": 16,
    "name": "ml.m5d.xlarge",
    "vcpuNum": 4
   },
   {
    "_defaultOrder": 14,
    "_isFastLaunch": false,
    "category": "General purpose",
    "gpuNum": 0,
    "hideHardwareSpecs": false,
    "memoryGiB": 32,
    "name": "ml.m5d.2xlarge",
    "vcpuNum": 8
   },
   {
    "_defaultOrder": 15,
    "_isFastLaunch": false,
    "category": "General purpose",
    "gpuNum": 0,
    "hideHardwareSpecs": false,
    "memoryGiB": 64,
    "name": "ml.m5d.4xlarge",
    "vcpuNum": 16
   },
   {
    "_defaultOrder": 16,
    "_isFastLaunch": false,
    "category": "General purpose",
    "gpuNum": 0,
    "hideHardwareSpecs": false,
    "memoryGiB": 128,
    "name": "ml.m5d.8xlarge",
    "vcpuNum": 32
   },
   {
    "_defaultOrder": 17,
    "_isFastLaunch": false,
    "category": "General purpose",
    "gpuNum": 0,
    "hideHardwareSpecs": false,
    "memoryGiB": 192,
    "name": "ml.m5d.12xlarge",
    "vcpuNum": 48
   },
   {
    "_defaultOrder": 18,
    "_isFastLaunch": false,
    "category": "General purpose",
    "gpuNum": 0,
    "hideHardwareSpecs": false,
    "memoryGiB": 256,
    "name": "ml.m5d.16xlarge",
    "vcpuNum": 64
   },
   {
    "_defaultOrder": 19,
    "_isFastLaunch": false,
    "category": "General purpose",
    "gpuNum": 0,
    "hideHardwareSpecs": false,
    "memoryGiB": 384,
    "name": "ml.m5d.24xlarge",
    "vcpuNum": 96
   },
   {
    "_defaultOrder": 20,
    "_isFastLaunch": false,
    "category": "General purpose",
    "gpuNum": 0,
    "hideHardwareSpecs": true,
    "memoryGiB": 0,
    "name": "ml.geospatial.interactive",
    "supportedImageNames": [
     "sagemaker-geospatial-v1-0"
    ],
    "vcpuNum": 0
   },
   {
    "_defaultOrder": 21,
    "_isFastLaunch": true,
    "category": "Compute optimized",
    "gpuNum": 0,
    "hideHardwareSpecs": false,
    "memoryGiB": 4,
    "name": "ml.c5.large",
    "vcpuNum": 2
   },
   {
    "_defaultOrder": 22,
    "_isFastLaunch": false,
    "category": "Compute optimized",
    "gpuNum": 0,
    "hideHardwareSpecs": false,
    "memoryGiB": 8,
    "name": "ml.c5.xlarge",
    "vcpuNum": 4
   },
   {
    "_defaultOrder": 23,
    "_isFastLaunch": false,
    "category": "Compute optimized",
    "gpuNum": 0,
    "hideHardwareSpecs": false,
    "memoryGiB": 16,
    "name": "ml.c5.2xlarge",
    "vcpuNum": 8
   },
   {
    "_defaultOrder": 24,
    "_isFastLaunch": false,
    "category": "Compute optimized",
    "gpuNum": 0,
    "hideHardwareSpecs": false,
    "memoryGiB": 32,
    "name": "ml.c5.4xlarge",
    "vcpuNum": 16
   },
   {
    "_defaultOrder": 25,
    "_isFastLaunch": false,
    "category": "Compute optimized",
    "gpuNum": 0,
    "hideHardwareSpecs": false,
    "memoryGiB": 72,
    "name": "ml.c5.9xlarge",
    "vcpuNum": 36
   },
   {
    "_defaultOrder": 26,
    "_isFastLaunch": false,
    "category": "Compute optimized",
    "gpuNum": 0,
    "hideHardwareSpecs": false,
    "memoryGiB": 96,
    "name": "ml.c5.12xlarge",
    "vcpuNum": 48
   },
   {
    "_defaultOrder": 27,
    "_isFastLaunch": false,
    "category": "Compute optimized",
    "gpuNum": 0,
    "hideHardwareSpecs": false,
    "memoryGiB": 144,
    "name": "ml.c5.18xlarge",
    "vcpuNum": 72
   },
   {
    "_defaultOrder": 28,
    "_isFastLaunch": false,
    "category": "Compute optimized",
    "gpuNum": 0,
    "hideHardwareSpecs": false,
    "memoryGiB": 192,
    "name": "ml.c5.24xlarge",
    "vcpuNum": 96
   },
   {
    "_defaultOrder": 29,
    "_isFastLaunch": true,
    "category": "Accelerated computing",
    "gpuNum": 1,
    "hideHardwareSpecs": false,
    "memoryGiB": 16,
    "name": "ml.g4dn.xlarge",
    "vcpuNum": 4
   },
   {
    "_defaultOrder": 30,
    "_isFastLaunch": false,
    "category": "Accelerated computing",
    "gpuNum": 1,
    "hideHardwareSpecs": false,
    "memoryGiB": 32,
    "name": "ml.g4dn.2xlarge",
    "vcpuNum": 8
   },
   {
    "_defaultOrder": 31,
    "_isFastLaunch": false,
    "category": "Accelerated computing",
    "gpuNum": 1,
    "hideHardwareSpecs": false,
    "memoryGiB": 64,
    "name": "ml.g4dn.4xlarge",
    "vcpuNum": 16
   },
   {
    "_defaultOrder": 32,
    "_isFastLaunch": false,
    "category": "Accelerated computing",
    "gpuNum": 1,
    "hideHardwareSpecs": false,
    "memoryGiB": 128,
    "name": "ml.g4dn.8xlarge",
    "vcpuNum": 32
   },
   {
    "_defaultOrder": 33,
    "_isFastLaunch": false,
    "category": "Accelerated computing",
    "gpuNum": 4,
    "hideHardwareSpecs": false,
    "memoryGiB": 192,
    "name": "ml.g4dn.12xlarge",
    "vcpuNum": 48
   },
   {
    "_defaultOrder": 34,
    "_isFastLaunch": false,
    "category": "Accelerated computing",
    "gpuNum": 1,
    "hideHardwareSpecs": false,
    "memoryGiB": 256,
    "name": "ml.g4dn.16xlarge",
    "vcpuNum": 64
   },
   {
    "_defaultOrder": 35,
    "_isFastLaunch": false,
    "category": "Accelerated computing",
    "gpuNum": 1,
    "hideHardwareSpecs": false,
    "memoryGiB": 61,
    "name": "ml.p3.2xlarge",
    "vcpuNum": 8
   },
   {
    "_defaultOrder": 36,
    "_isFastLaunch": false,
    "category": "Accelerated computing",
    "gpuNum": 4,
    "hideHardwareSpecs": false,
    "memoryGiB": 244,
    "name": "ml.p3.8xlarge",
    "vcpuNum": 32
   },
   {
    "_defaultOrder": 37,
    "_isFastLaunch": false,
    "category": "Accelerated computing",
    "gpuNum": 8,
    "hideHardwareSpecs": false,
    "memoryGiB": 488,
    "name": "ml.p3.16xlarge",
    "vcpuNum": 64
   },
   {
    "_defaultOrder": 38,
    "_isFastLaunch": false,
    "category": "Accelerated computing",
    "gpuNum": 8,
    "hideHardwareSpecs": false,
    "memoryGiB": 768,
    "name": "ml.p3dn.24xlarge",
    "vcpuNum": 96
   },
   {
    "_defaultOrder": 39,
    "_isFastLaunch": false,
    "category": "Memory Optimized",
    "gpuNum": 0,
    "hideHardwareSpecs": false,
    "memoryGiB": 16,
    "name": "ml.r5.large",
    "vcpuNum": 2
   },
   {
    "_defaultOrder": 40,
    "_isFastLaunch": false,
    "category": "Memory Optimized",
    "gpuNum": 0,
    "hideHardwareSpecs": false,
    "memoryGiB": 32,
    "name": "ml.r5.xlarge",
    "vcpuNum": 4
   },
   {
    "_defaultOrder": 41,
    "_isFastLaunch": false,
    "category": "Memory Optimized",
    "gpuNum": 0,
    "hideHardwareSpecs": false,
    "memoryGiB": 64,
    "name": "ml.r5.2xlarge",
    "vcpuNum": 8
   },
   {
    "_defaultOrder": 42,
    "_isFastLaunch": false,
    "category": "Memory Optimized",
    "gpuNum": 0,
    "hideHardwareSpecs": false,
    "memoryGiB": 128,
    "name": "ml.r5.4xlarge",
    "vcpuNum": 16
   },
   {
    "_defaultOrder": 43,
    "_isFastLaunch": false,
    "category": "Memory Optimized",
    "gpuNum": 0,
    "hideHardwareSpecs": false,
    "memoryGiB": 256,
    "name": "ml.r5.8xlarge",
    "vcpuNum": 32
   },
   {
    "_defaultOrder": 44,
    "_isFastLaunch": false,
    "category": "Memory Optimized",
    "gpuNum": 0,
    "hideHardwareSpecs": false,
    "memoryGiB": 384,
    "name": "ml.r5.12xlarge",
    "vcpuNum": 48
   },
   {
    "_defaultOrder": 45,
    "_isFastLaunch": false,
    "category": "Memory Optimized",
    "gpuNum": 0,
    "hideHardwareSpecs": false,
    "memoryGiB": 512,
    "name": "ml.r5.16xlarge",
    "vcpuNum": 64
   },
   {
    "_defaultOrder": 46,
    "_isFastLaunch": false,
    "category": "Memory Optimized",
    "gpuNum": 0,
    "hideHardwareSpecs": false,
    "memoryGiB": 768,
    "name": "ml.r5.24xlarge",
    "vcpuNum": 96
   },
   {
    "_defaultOrder": 47,
    "_isFastLaunch": false,
    "category": "Accelerated computing",
    "gpuNum": 1,
    "hideHardwareSpecs": false,
    "memoryGiB": 16,
    "name": "ml.g5.xlarge",
    "vcpuNum": 4
   },
   {
    "_defaultOrder": 48,
    "_isFastLaunch": false,
    "category": "Accelerated computing",
    "gpuNum": 1,
    "hideHardwareSpecs": false,
    "memoryGiB": 32,
    "name": "ml.g5.2xlarge",
    "vcpuNum": 8
   },
   {
    "_defaultOrder": 49,
    "_isFastLaunch": false,
    "category": "Accelerated computing",
    "gpuNum": 1,
    "hideHardwareSpecs": false,
    "memoryGiB": 64,
    "name": "ml.g5.4xlarge",
    "vcpuNum": 16
   },
   {
    "_defaultOrder": 50,
    "_isFastLaunch": false,
    "category": "Accelerated computing",
    "gpuNum": 1,
    "hideHardwareSpecs": false,
    "memoryGiB": 128,
    "name": "ml.g5.8xlarge",
    "vcpuNum": 32
   },
   {
    "_defaultOrder": 51,
    "_isFastLaunch": false,
    "category": "Accelerated computing",
    "gpuNum": 1,
    "hideHardwareSpecs": false,
    "memoryGiB": 256,
    "name": "ml.g5.16xlarge",
    "vcpuNum": 64
   },
   {
    "_defaultOrder": 52,
    "_isFastLaunch": false,
    "category": "Accelerated computing",
    "gpuNum": 4,
    "hideHardwareSpecs": false,
    "memoryGiB": 192,
    "name": "ml.g5.12xlarge",
    "vcpuNum": 48
   },
   {
    "_defaultOrder": 53,
    "_isFastLaunch": false,
    "category": "Accelerated computing",
    "gpuNum": 4,
    "hideHardwareSpecs": false,
    "memoryGiB": 384,
    "name": "ml.g5.24xlarge",
    "vcpuNum": 96
   },
   {
    "_defaultOrder": 54,
    "_isFastLaunch": false,
    "category": "Accelerated computing",
    "gpuNum": 8,
    "hideHardwareSpecs": false,
    "memoryGiB": 768,
    "name": "ml.g5.48xlarge",
    "vcpuNum": 192
   },
   {
    "_defaultOrder": 55,
    "_isFastLaunch": false,
    "category": "Accelerated computing",
    "gpuNum": 8,
    "hideHardwareSpecs": false,
    "memoryGiB": 1152,
    "name": "ml.p4d.24xlarge",
    "vcpuNum": 96
   },
   {
    "_defaultOrder": 56,
    "_isFastLaunch": false,
    "category": "Accelerated computing",
    "gpuNum": 8,
    "hideHardwareSpecs": false,
    "memoryGiB": 1152,
    "name": "ml.p4de.24xlarge",
    "vcpuNum": 96
   },
   {
    "_defaultOrder": 57,
    "_isFastLaunch": false,
    "category": "Accelerated computing",
    "gpuNum": 0,
    "hideHardwareSpecs": false,
    "memoryGiB": 32,
    "name": "ml.trn1.2xlarge",
    "vcpuNum": 8
   },
   {
    "_defaultOrder": 58,
    "_isFastLaunch": false,
    "category": "Accelerated computing",
    "gpuNum": 0,
    "hideHardwareSpecs": false,
    "memoryGiB": 512,
    "name": "ml.trn1.32xlarge",
    "vcpuNum": 128
   },
   {
    "_defaultOrder": 59,
    "_isFastLaunch": false,
    "category": "Accelerated computing",
    "gpuNum": 0,
    "hideHardwareSpecs": false,
    "memoryGiB": 512,
    "name": "ml.trn1n.32xlarge",
    "vcpuNum": 128
   }
  ],
  "instance_type": "ml.t3.medium",
  "kernelspec": {
   "display_name": "Python 3 (Data Science 3.0)",
   "language": "python",
   "name": "python3__SAGEMAKER_INTERNAL__arn:aws:sagemaker:us-east-1:081325390199:image/sagemaker-data-science-310-v1"
  },
  "language_info": {
   "codemirror_mode": {
    "name": "ipython",
    "version": 3
   },
   "file_extension": ".py",
   "mimetype": "text/x-python",
   "name": "python",
   "nbconvert_exporter": "python",
   "pygments_lexer": "ipython3",
   "version": "3.10.6"
  }
 },
 "nbformat": 4,
 "nbformat_minor": 5
}
